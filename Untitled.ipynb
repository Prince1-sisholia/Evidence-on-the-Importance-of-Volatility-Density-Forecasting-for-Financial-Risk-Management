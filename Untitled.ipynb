{
 "cells": [
  {
   "cell_type": "markdown",
   "id": "12184c32",
   "metadata": {},
   "source": [
    "# Importing Necessary Libraries"
   ]
  },
  {
   "cell_type": "code",
   "execution_count": 2,
   "id": "eda096a6",
   "metadata": {},
   "outputs": [],
   "source": [
    "import numpy as np\n",
    "import pandas as pd\n",
    "from statsmodels.tsa.ar_model import AutoReg\n",
    "from sklearn.metrics import mean_squared_error\n",
    "from keras.models import Sequential\n",
    "from keras.layers import Dense, LSTM\n",
    "import matplotlib.pyplot as plt\n",
    "import seaborn as sns\n",
    "import yfinance as yf\n",
    "import datetime"
   ]
  },
  {
   "cell_type": "markdown",
   "id": "5a0711a7",
   "metadata": {},
   "source": [
    "# Loading and Preparing Data"
   ]
  },
  {
   "cell_type": "code",
   "execution_count": 3,
   "id": "469db8f2",
   "metadata": {},
   "outputs": [
    {
     "name": "stderr",
     "output_type": "stream",
     "text": [
      "[*********************100%%**********************]  1 of 1 completed\n",
      "[*********************100%%**********************]  1 of 1 completed\n",
      "[*********************100%%**********************]  1 of 1 completed\n",
      "[*********************100%%**********************]  1 of 1 completed\n",
      "[*********************100%%**********************]  1 of 1 completed\n",
      "[*********************100%%**********************]  1 of 1 completed\n"
     ]
    },
    {
     "name": "stdout",
     "output_type": "stream",
     "text": [
      "Microsoft (MSFT) - 5-minute interval data:\n",
      "Datetime\n",
      "2024-08-15 09:30:00-04:00    418.934998\n",
      "2024-08-15 09:35:00-04:00    419.174988\n",
      "2024-08-15 09:40:00-04:00    418.040497\n",
      "2024-08-15 09:45:00-04:00    418.399994\n",
      "2024-08-15 09:50:00-04:00    419.510010\n",
      "Freq: 5T, Name: Close, dtype: float64\n",
      "\n",
      "Microsoft (MSFT) - 2.5-minute interval data:\n",
      "Datetime\n",
      "2024-08-15 09:30:00-04:00    418.785004\n",
      "2024-08-15 09:32:30-04:00    418.934998\n",
      "2024-08-15 09:35:00-04:00    418.899994\n",
      "2024-08-15 09:37:30-04:00    419.174988\n",
      "2024-08-15 09:40:00-04:00    417.910004\n",
      "Freq: 150S, Name: Close, dtype: float64\n",
      "\n",
      "Microsoft (MSFT) - 1.25-minute interval data:\n",
      "Datetime\n",
      "2024-08-15 09:30:00-04:00    418.940002\n",
      "2024-08-15 09:31:15-04:00    418.785004\n",
      "2024-08-15 09:32:30-04:00    418.450012\n",
      "2024-08-15 09:33:45-04:00    418.934998\n",
      "2024-08-15 09:35:00-04:00    418.654999\n",
      "Freq: 75S, Name: Close, dtype: float64\n"
     ]
    }
   ],
   "source": [
    "import yfinance as yf\n",
    "import pandas as pd\n",
    "\n",
    "# Define the list of stocks and their tickers\n",
    "stocks = ['BA', 'GE', 'IBM', 'JPM', 'MSFT', 'PG']\n",
    "\n",
    "# Define the start and end dates\n",
    "start_date = '2024-08-15'\n",
    "end_date = '2024-08-20'\n",
    "\n",
    "# Define a dictionary to store resampled data for each stock\n",
    "resampled_data = {}\n",
    "\n",
    "for stock in stocks:\n",
    "    # Download historical data from Yahoo Finance using yfinance\n",
    "    stock_data = yf.download(stock, start=start_date, end=end_date, interval ='1m', auto_adjust=True)\n",
    "\n",
    "    # Ensure the index is a DatetimeIndex\n",
    "    stock_data.index = pd.to_datetime(stock_data.index)\n",
    "\n",
    "    # Filter data to only include regular trading hours (9:30 AM to 4:00 PM)\n",
    "    stock_data = stock_data.between_time('09:30', '16:00')\n",
    "\n",
    "    # Handle missing values by forward filling\n",
    "    stock_data['Close'] = stock_data['Close'].ffill()\n",
    "\n",
    "    # Resample the data to different intervals\n",
    "\n",
    "    # 5-minute interval (78 observations per day)\n",
    "    data_5min = stock_data['Close'].resample('5T').last()\n",
    "\n",
    "    # 2.5-minute interval (156 observations per day)\n",
    "    data_2_5min = stock_data['Close'].resample('2.5T').last()\n",
    "\n",
    "    # 1.25-minute interval (312 observations per day)\n",
    "    data_1_25min = stock_data['Close'].resample('1.25T').last()\n",
    "\n",
    "    # Store the resampled data in the dictionary\n",
    "    resampled_data[stock] = {\n",
    "        '5min': data_5min,\n",
    "        '2.5min': data_2_5min,\n",
    "        '1.25min': data_1_25min\n",
    "    }\n",
    "\n",
    "    # Optionally, save the resampled data to new CSV files\n",
    "    data_5min.to_csv(f'{stock}_5min.csv')\n",
    "    data_2_5min.to_csv(f'{stock}_2_5min.csv')\n",
    "    data_1_25min.to_csv(f'{stock}_1_25min.csv')\n",
    "\n",
    "# Example: Display the resampled data for Microsoft (MSFT)\n",
    "print(\"Microsoft (MSFT) - 5-minute interval data:\")\n",
    "print(resampled_data['MSFT']['5min'].head())\n",
    "\n",
    "print(\"\\nMicrosoft (MSFT) - 2.5-minute interval data:\")\n",
    "print(resampled_data['MSFT']['2.5min'].head())\n",
    "\n",
    "print(\"\\nMicrosoft (MSFT) - 1.25-minute interval data:\")\n",
    "print(resampled_data['MSFT']['1.25min'].head())\n"
   ]
  },
  {
   "cell_type": "code",
   "execution_count": null,
   "id": "8f78b5ec",
   "metadata": {},
   "outputs": [],
   "source": []
  },
  {
   "cell_type": "markdown",
   "id": "43e69c55",
   "metadata": {},
   "source": [
    "# Realized Volatility Calculation"
   ]
  },
  {
   "cell_type": "code",
   "execution_count": 6,
   "id": "a6b875b4",
   "metadata": {},
   "outputs": [
    {
     "ename": "NameError",
     "evalue": "name 'data' is not defined",
     "output_type": "error",
     "traceback": [
      "\u001b[1;31m---------------------------------------------------------------------------\u001b[0m",
      "\u001b[1;31mNameError\u001b[0m                                 Traceback (most recent call last)",
      "Input \u001b[1;32mIn [6]\u001b[0m, in \u001b[0;36m<cell line: 2>\u001b[1;34m()\u001b[0m\n\u001b[0;32m      1\u001b[0m \u001b[38;5;66;03m# Calculate returns\u001b[39;00m\n\u001b[1;32m----> 2\u001b[0m data[\u001b[38;5;124m'\u001b[39m\u001b[38;5;124mReturns\u001b[39m\u001b[38;5;124m'\u001b[39m] \u001b[38;5;241m=\u001b[39m np\u001b[38;5;241m.\u001b[39mlog(\u001b[43mdata\u001b[49m[\u001b[38;5;124m'\u001b[39m\u001b[38;5;124mPrice\u001b[39m\u001b[38;5;124m'\u001b[39m] \u001b[38;5;241m/\u001b[39m data[\u001b[38;5;124m'\u001b[39m\u001b[38;5;124mPrice\u001b[39m\u001b[38;5;124m'\u001b[39m]\u001b[38;5;241m.\u001b[39mshift(\u001b[38;5;241m1\u001b[39m))\n\u001b[0;32m      4\u001b[0m \u001b[38;5;66;03m# Calculate realized volatility (RV)\u001b[39;00m\n\u001b[0;32m      5\u001b[0m data[\u001b[38;5;124m'\u001b[39m\u001b[38;5;124mRV\u001b[39m\u001b[38;5;124m'\u001b[39m] \u001b[38;5;241m=\u001b[39m data[\u001b[38;5;124m'\u001b[39m\u001b[38;5;124mReturns\u001b[39m\u001b[38;5;124m'\u001b[39m]\u001b[38;5;241m*\u001b[39m\u001b[38;5;241m*\u001b[39m\u001b[38;5;241m2\u001b[39m\n",
      "\u001b[1;31mNameError\u001b[0m: name 'data' is not defined"
     ]
    }
   ],
   "source": [
    "# Calculate returns\n",
    "data['Returns'] = np.log(data['Price'] / data['Price'].shift(1))\n",
    "\n",
    "# Calculate realized volatility (RV)\n",
    "data['RV'] = data['Returns']**2\n",
    "realized_volatility = data['RV'].resample('D').sum()\n"
   ]
  },
  {
   "cell_type": "markdown",
   "id": "c8dd793e",
   "metadata": {},
   "source": [
    "# Interval Forecasting Using Kernel Density Estimation"
   ]
  },
  {
   "cell_type": "code",
   "execution_count": null,
   "id": "55c4539e",
   "metadata": {},
   "outputs": [],
   "source": [
    "def kernel_density_forecast(returns, bandwidth=0.75):\n",
    "    kde = KernelDensity(kernel='gaussian', bandwidth=bandwidth).fit(returns[:, None])\n",
    "    log_density = kde.score_samples(returns[:, None])\n",
    "    return np.exp(log_density)\n",
    "\n",
    "density_forecast = kernel_density_forecast(data['Returns'].dropna().values)\n"
   ]
  },
  {
   "cell_type": "markdown",
   "id": "6cbfe657",
   "metadata": {},
   "source": [
    "# HAR Model for Volatility Forecasting"
   ]
  },
  {
   "cell_type": "code",
   "execution_count": null,
   "id": "22dd9cca",
   "metadata": {},
   "outputs": [],
   "source": [
    "def har_model(vol_data):\n",
    "    har_data = pd.DataFrame(index=vol_data.index)\n",
    "    har_data['lag_1'] = vol_data.shift(1)\n",
    "    har_data['lag_5'] = vol_data.rolling(window=5).mean().shift(1)\n",
    "    har_data['lag_22'] = vol_data.rolling(window=22).mean().shift(1)\n",
    "    har_data.dropna(inplace=True)\n",
    "    model = AutoReg(har_data['lag_1'], lags=[1, 5, 22])\n",
    "    model_fit = model.fit()\n",
    "    return model_fit\n",
    "\n",
    "har_fit = har_model(realized_volatility)\n",
    "har_forecast = har_fit.predict(start=len(realized_volatility), end=len(realized_volatility)+10)\n"
   ]
  },
  {
   "cell_type": "markdown",
   "id": "5e26a4b3",
   "metadata": {},
   "source": [
    "# RNN Model for Volatility Forecasting"
   ]
  },
  {
   "cell_type": "code",
   "execution_count": null,
   "id": "5b6093ea",
   "metadata": {},
   "outputs": [],
   "source": [
    "def create_rnn_model(input_shape):\n",
    "    model = Sequential()\n",
    "    model.add(LSTM(50, return_sequences=True, input_shape=input_shape))\n",
    "    model.add(LSTM(50))\n",
    "    model.add(Dense(1))\n",
    "    model.compile(optimizer='adam', loss='mean_squared_error')\n",
    "    return model\n",
    "\n",
    "def train_rnn_model(model, X_train, y_train, epochs=50, batch_size=64):\n",
    "    X_train = X_train.reshape((X_train.shape[0], 1, X_train.shape[1]))\n",
    "    model.fit(X_train, y_train, epochs=epochs, batch_size=batch_size, verbose=0)\n",
    "    return model\n",
    "\n",
    "rnn_model = create_rnn_model((1, 1))\n",
    "rnn_model = train_rnn_model(rnn_model, X_train, y_train)\n"
   ]
  },
  {
   "cell_type": "markdown",
   "id": "11adfdc4",
   "metadata": {},
   "source": [
    "# Performance Metrics: DPA, Sharpe Ratio, Sortino Ratio"
   ]
  },
  {
   "cell_type": "code",
   "execution_count": null,
   "id": "e73b1b7d",
   "metadata": {},
   "outputs": [],
   "source": [
    "def directional_predictive_accuracy(y_true, y_pred):\n",
    "    return np.mean(np.sign(y_true) == np.sign(y_pred))\n",
    "\n",
    "def sharpe_ratio(returns, risk_free_rate=0.01):\n",
    "    return (np.mean(returns) - risk_free_rate) / np.std(returns)\n",
    "\n",
    "def sortino_ratio(returns, target=0):\n",
    "    downside_risk = np.std(np.minimum(0, returns - target))\n",
    "    return (np.mean(returns) - target) / downside_risk\n",
    "\n",
    "dpa_har = directional_predictive_accuracy(y_test, har_forecast)\n",
    "sharpe_har = sharpe_ratio(har_forecast)\n",
    "sortino_har = sortino_ratio(har_forecast)\n"
   ]
  },
  {
   "cell_type": "markdown",
   "id": "4b165c9e",
   "metadata": {},
   "source": [
    "# Monte Carlo Simulation for Volatility Forecasting"
   ]
  },
  {
   "cell_type": "code",
   "execution_count": null,
   "id": "78c8a8a2",
   "metadata": {},
   "outputs": [],
   "source": [
    "def monte_carlo_simulation(volatility, n_simulations=1000):\n",
    "    simulated_paths = []\n",
    "    for _ in range(n_simulations):\n",
    "        shocks = np.random.normal(0, 1, len(volatility))\n",
    "        path = [volatility[0]]\n",
    "        for shock in shocks:\n",
    "            path.append(path[-1] * np.exp(-0.5 + shock))\n",
    "        simulated_paths.append(path)\n",
    "    return np.array(simulated_paths)\n",
    "\n",
    "simulated_volatility = monte_carlo_simulation(realized_volatility.values)\n"
   ]
  },
  {
   "cell_type": "markdown",
   "id": "4c6a815b",
   "metadata": {},
   "source": [
    "# Plotting Results"
   ]
  },
  {
   "cell_type": "code",
   "execution_count": null,
   "id": "720245a7",
   "metadata": {},
   "outputs": [],
   "source": [
    "plt.figure(figsize=(14, 7))\n",
    "plt.plot(realized_volatility.index, realized_volatility.values, label='Realized Volatility')\n",
    "plt.plot(realized_volatility.index[-10:], har_forecast, label='HAR Forecast')\n",
    "plt.plot(realized_volatility.index[-10:], rnn_forecast, label='RNN Forecast')\n",
    "plt.legend()\n",
    "plt.title('Volatility Forecasting Models')\n",
    "plt.show()\n"
   ]
  },
  {
   "cell_type": "markdown",
   "id": "8a07960b",
   "metadata": {},
   "source": [
    "# Conclusion"
   ]
  },
  {
   "cell_type": "code",
   "execution_count": null,
   "id": "d45ecc17",
   "metadata": {},
   "outputs": [],
   "source": [
    "print(\"DPA (HAR):\", dpa_har)\n",
    "print(\"Sharpe Ratio (HAR):\", sharpe_har)\n",
    "print(\"Sortino Ratio (HAR):\", sortino_har)\n"
   ]
  }
 ],
 "metadata": {
  "kernelspec": {
   "display_name": "Python 3 (ipykernel)",
   "language": "python",
   "name": "python3"
  },
  "language_info": {
   "codemirror_mode": {
    "name": "ipython",
    "version": 3
   },
   "file_extension": ".py",
   "mimetype": "text/x-python",
   "name": "python",
   "nbconvert_exporter": "python",
   "pygments_lexer": "ipython3",
   "version": "3.9.12"
  }
 },
 "nbformat": 4,
 "nbformat_minor": 5
}
